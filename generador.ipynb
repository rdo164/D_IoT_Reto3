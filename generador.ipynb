{
 "cells": [
  {
   "cell_type": "code",
   "execution_count": 22,
   "metadata": {},
   "outputs": [],
   "source": [
    "class Generador:\n",
    "    def __init__(self, generador_id, fecha_hora=-1,\n",
    "                 velocidad_viento=-1, direccion_viento=-1, temperatura=-1, humedad=-1):\n",
    "        self.fecha_hora = fecha_hora\n",
    "        self.velocidad_viento = velocidad_viento\n",
    "        self.direccion_viento = direccion_viento\n",
    "        self.temperatura = temperatura\n",
    "        self.humedad = humedad\n",
    "        self.generador_id = generador_id\n",
    "\n",
    "    def set_fecha_hora(self, fecha_hora):\n",
    "        self.fecha_hora = fecha_hora\n",
    "\n",
    "    def get_fecha_hora(self):\n",
    "        return self.fecha_hora\n",
    "\n",
    "    def get_velocidad_viento(self):\n",
    "        return self._velocidad_viento\n",
    "\n",
    "    def set_velocidad_viento(self, velocidad_viento):\n",
    "        self._velocidad_viento = velocidad_viento\n",
    "\n",
    "    def get_direccion_viento(self):\n",
    "        return self._direccion_viento\n",
    "\n",
    "    def set_direccion_viento(self, direccion_viento):\n",
    "        self._direccion_viento = direccion_viento\n",
    "\n",
    "    def get_temperatura(self):\n",
    "        return self._temperatura\n",
    "\n",
    "    def set_temperatura(self, temperatura):\n",
    "        self._temperatura = temperatura\n",
    "\n",
    "    def get_humedad(self):\n",
    "        return self._humedad\n",
    "\n",
    "    def set_humedad(self, humedad):\n",
    "        self._humedad = humedad\n",
    "\n",
    "    def get_potencia_generada(self):\n",
    "        return self._potencia_generada\n",
    "\n",
    "    def set_potencia_generada(self, potencia_generada):\n",
    "        self.potencia_generada = potencia_generada\n",
    "\n"
   ]
  },
  {
   "cell_type": "markdown",
   "metadata": {},
   "source": []
  },
  {
   "cell_type": "code",
   "execution_count": 38,
   "metadata": {},
   "outputs": [],
   "source": [
    "import numpy as np\n",
    "import pandas as pd\n",
    "import random\n",
    "from datetime import datetime"
   ]
  },
  {
   "cell_type": "code",
   "execution_count": 40,
   "metadata": {},
   "outputs": [
    {
     "name": "stdout",
     "output_type": "stream",
     "text": [
      "{'fecha_hora': Timestamp('2023-03-08 12:00:00'), 'velocidad_viento': 10.19041905373145, 'direccion_viento': 208, 'temperatura': 16.4341779799143, 'humedad': 56, 'potencia_generada': 813, 'generador_id': 1}\n",
      "{'fecha_hora': Timestamp('2023-03-08 12:00:00'), 'velocidad_viento': 13.319442290789823, 'direccion_viento': 296, 'temperatura': 15.353400536961486, 'humedad': 60, 'potencia_generada': 399, 'generador_id': 2}\n",
      "{'fecha_hora': Timestamp('2023-03-08 12:00:00'), 'velocidad_viento': 9.256785736322835, 'direccion_viento': 132, 'temperatura': 17.27263349666583, 'humedad': 70, 'potencia_generada': 349, 'generador_id': 3}\n",
      "{'fecha_hora': Timestamp('2023-03-08 12:00:00'), 'velocidad_viento': 11.460720728286491, 'direccion_viento': 28, 'temperatura': 16.002089680626593, 'humedad': 50, 'potencia_generada': 420, 'generador_id': 4}\n",
      "{'fecha_hora': Timestamp('2023-03-08 12:00:00'), 'velocidad_viento': 9.111594250067311, 'direccion_viento': 350, 'temperatura': 14.256456694873263, 'humedad': 42, 'potencia_generada': 295, 'generador_id': 5}\n",
      "{'fecha_hora': Timestamp('2023-03-08 12:00:00'), 'velocidad_viento': 11.157128009518084, 'direccion_viento': 122, 'temperatura': 10.499118000892395, 'humedad': 55, 'potencia_generada': 906, 'generador_id': 6}\n",
      "{'fecha_hora': Timestamp('2023-03-08 12:00:00'), 'velocidad_viento': 7.694281212161481, 'direccion_viento': 247, 'temperatura': 17.328365471355482, 'humedad': 78, 'potencia_generada': 814, 'generador_id': 7}\n",
      "{'fecha_hora': Timestamp('2023-03-08 12:00:00'), 'velocidad_viento': 10.629024415026011, 'direccion_viento': 194, 'temperatura': 14.424836641617482, 'humedad': 45, 'potencia_generada': 786, 'generador_id': 8}\n",
      "{'fecha_hora': Timestamp('2023-03-08 12:00:00'), 'velocidad_viento': 6.0253804427445345, 'direccion_viento': 299, 'temperatura': 14.529128352724893, 'humedad': 76, 'potencia_generada': 16, 'generador_id': 9}\n",
      "{'fecha_hora': Timestamp('2023-03-08 12:00:00'), 'velocidad_viento': 13.192878194316327, 'direccion_viento': 284, 'temperatura': 15.043661419905606, 'humedad': 43, 'potencia_generada': 423, 'generador_id': 10}\n",
      "[<__main__.Generador object at 0x0000024F23D3A290>, <__main__.Generador object at 0x0000024F244A1850>, <__main__.Generador object at 0x0000024F23D49D50>, <__main__.Generador object at 0x0000024F24830CD0>, <__main__.Generador object at 0x0000024F24830750>, <__main__.Generador object at 0x0000024F24830110>, <__main__.Generador object at 0x0000024F24830290>, <__main__.Generador object at 0x0000024F24830B90>, <__main__.Generador object at 0x0000024F24831110>, <__main__.Generador object at 0x0000024F248303D0>]\n"
     ]
    }
   ],
   "source": [
    "import random\n",
    "# creo la \n",
    "mediciones = []\n",
    "\n",
    "tamaño_poblacion = 10\n",
    "#while True:\n",
    "\n",
    "for i in range(tamaño_poblacion):\n",
    "\n",
    "\n",
    "    generador_id = i+1\n",
    "\n",
    "    generador = Generador(generador_id) \n",
    "\n",
    "    timestamp = datetime.utcnow().isoformat()\n",
    "        \n",
    "    generador.set_fecha_hora(timestamp)\n",
    "\n",
    "    vv = np.random.normal(10, 2)\n",
    "    generador.set_velocidad_viento(vv)\n",
    "\n",
    "\n",
    "\n",
    "    direccion_viento = np.random.randint(0, 360)\n",
    "    generador.set_direccion_viento(direccion_viento)\n",
    "\n",
    "\n",
    "    temperatura = np.random.normal(15, 2)\n",
    "    generador.set_temperatura(temperatura)\n",
    "    \n",
    "    \n",
    "    humedad = np.random.randint(40, 80)\n",
    "    generador.set_humedad(humedad)\n",
    "    \n",
    "    potencia_generada = np.random.randint(0, 1000)\n",
    "    generador.set_potencia_generada(potencia_generada)\n",
    "\n",
    "    \n",
    "\n",
    "\n",
    "\n",
    "    mediciones.append(generador) \n",
    "    \n",
    "    medicion = {\n",
    "    \"fecha_hora\": timestamp,\n",
    "    \"velocidad_viento\": vv,\n",
    "    \"direccion_viento\": direccion_viento,\n",
    "    \"temperatura\": temperatura,\n",
    "    \"humedad\": humedad,\n",
    "    \"potencia_generada\": potencia_generada,\n",
    "    \"generador_id\": generador_id\n",
    "    }\n",
    "\n",
    "    r_carpeta = \"./archivo/\"\n",
    "    r_gen_id = (f\"{generador_id}.json\")\n",
    "    ruta = r_carpeta + r_gen_id\n",
    "\n",
    "    (f\"{generador_id}.json\")\n",
    "\n",
    "\n",
    "\n",
    "    print(medicion)\n",
    "\n",
    "\n",
    "            \n",
    "print(mediciones)\n"
   ]
  },
  {
   "cell_type": "code",
   "execution_count": 35,
   "metadata": {},
   "outputs": [
    {
     "name": "stdout",
     "output_type": "stream",
     "text": [
      "Collecting fastapiNote: you may need to restart the kernel to use updated packages.\n"
     ]
    },
    {
     "name": "stderr",
     "output_type": "stream",
     "text": [
      "\n",
      "[notice] A new release of pip is available: 23.0.1 -> 24.0\n",
      "[notice] To update, run: python.exe -m pip install --upgrade pip\n"
     ]
    },
    {
     "name": "stdout",
     "output_type": "stream",
     "text": [
      "\n",
      "  Downloading fastapi-0.110.0-py3-none-any.whl (92 kB)\n",
      "     ---------------------------------------- 0.0/92.1 kB ? eta -:--:--\n",
      "     ---- ----------------------------------- 10.2/92.1 kB ? eta -:--:--\n",
      "     ------------------------- ------------ 61.4/92.1 kB 656.4 kB/s eta 0:00:01\n",
      "     ------------------------- ------------ 61.4/92.1 kB 656.4 kB/s eta 0:00:01\n",
      "     -------------------------------------- 92.1/92.1 kB 524.5 kB/s eta 0:00:00\n",
      "Requirement already satisfied: pydantic!=1.8,!=1.8.1,!=2.0.0,!=2.0.1,!=2.1.0,<3.0.0,>=1.7.4 in c:\\users\\hezitzaile\\appdata\\local\\programs\\python\\python311\\lib\\site-packages (from fastapi) (2.4.2)\n",
      "Collecting starlette<0.37.0,>=0.36.3\n",
      "  Downloading starlette-0.36.3-py3-none-any.whl (71 kB)\n",
      "     ---------------------------------------- 0.0/71.5 kB ? eta -:--:--\n",
      "     ---------------- --------------------- 30.7/71.5 kB 660.6 kB/s eta 0:00:01\n",
      "     -------------------------------- ----- 61.4/71.5 kB 825.8 kB/s eta 0:00:01\n",
      "     -------------------------------------- 71.5/71.5 kB 561.8 kB/s eta 0:00:00\n",
      "Requirement already satisfied: typing-extensions>=4.8.0 in c:\\users\\hezitzaile\\appdata\\local\\programs\\python\\python311\\lib\\site-packages (from fastapi) (4.8.0)\n",
      "Requirement already satisfied: annotated-types>=0.4.0 in c:\\users\\hezitzaile\\appdata\\local\\programs\\python\\python311\\lib\\site-packages (from pydantic!=1.8,!=1.8.1,!=2.0.0,!=2.0.1,!=2.1.0,<3.0.0,>=1.7.4->fastapi) (0.6.0)\n",
      "Requirement already satisfied: pydantic-core==2.10.1 in c:\\users\\hezitzaile\\appdata\\local\\programs\\python\\python311\\lib\\site-packages (from pydantic!=1.8,!=1.8.1,!=2.0.0,!=2.0.1,!=2.1.0,<3.0.0,>=1.7.4->fastapi) (2.10.1)\n",
      "Collecting anyio<5,>=3.4.0\n",
      "  Downloading anyio-4.3.0-py3-none-any.whl (85 kB)\n",
      "     ---------------------------------------- 0.0/85.6 kB ? eta -:--:--\n",
      "     ---- ----------------------------------- 10.2/85.6 kB ? eta -:--:--\n",
      "     ------------------ ------------------- 41.0/85.6 kB 667.8 kB/s eta 0:00:01\n",
      "     ------------------ ------------------- 41.0/85.6 kB 667.8 kB/s eta 0:00:01\n",
      "     ------------------ ------------------- 41.0/85.6 kB 667.8 kB/s eta 0:00:01\n",
      "     ------------------------------------ - 81.9/85.6 kB 383.3 kB/s eta 0:00:01\n",
      "     -------------------------------------- 85.6/85.6 kB 371.2 kB/s eta 0:00:00\n",
      "Requirement already satisfied: idna>=2.8 in c:\\users\\hezitzaile\\appdata\\local\\programs\\python\\python311\\lib\\site-packages (from anyio<5,>=3.4.0->starlette<0.37.0,>=0.36.3->fastapi) (3.4)\n",
      "Collecting sniffio>=1.1\n",
      "  Downloading sniffio-1.3.1-py3-none-any.whl (10 kB)\n",
      "Installing collected packages: sniffio, anyio, starlette, fastapi\n",
      "Successfully installed anyio-4.3.0 fastapi-0.110.0 sniffio-1.3.1 starlette-0.36.3\n"
     ]
    }
   ],
   "source": [
    "! install fastapi\n"
   ]
  },
  {
   "cell_type": "code",
   "execution_count": null,
   "metadata": {},
   "outputs": [],
   "source": [
    "for i in mediciones:\n",
    "    "
   ]
  },
  {
   "cell_type": "code",
   "execution_count": 36,
   "metadata": {},
   "outputs": [],
   "source": [
    "from fastapi import FastAPI, Body\n",
    "from pydantic import BaseModel"
   ]
  },
  {
   "cell_type": "code",
   "execution_count": 37,
   "metadata": {},
   "outputs": [
    {
     "ename": "NameError",
     "evalue": "name 'datetime' is not defined",
     "output_type": "error",
     "traceback": [
      "\u001b[1;31m---------------------------------------------------------------------------\u001b[0m",
      "\u001b[1;31mNameError\u001b[0m                                 Traceback (most recent call last)",
      "Cell \u001b[1;32mIn[37], line 6\u001b[0m\n\u001b[0;32m      2\u001b[0m \u001b[38;5;28;01mfrom\u001b[39;00m \u001b[38;5;21;01mpydantic\u001b[39;00m \u001b[38;5;28;01mimport\u001b[39;00m BaseModel\n\u001b[0;32m      4\u001b[0m app \u001b[38;5;241m=\u001b[39m FastAPI()\n\u001b[1;32m----> 6\u001b[0m \u001b[38;5;28;43;01mclass\u001b[39;49;00m\u001b[43m \u001b[49m\u001b[38;5;21;43;01mMedicion\u001b[39;49;00m\u001b[43m(\u001b[49m\u001b[43mBaseModel\u001b[49m\u001b[43m)\u001b[49m\u001b[43m:\u001b[49m\n\u001b[0;32m      7\u001b[0m \u001b[43m    \u001b[49m\u001b[43mfecha_hora\u001b[49m\u001b[43m:\u001b[49m\u001b[43m \u001b[49m\u001b[43mdatetime\u001b[49m\n\u001b[0;32m      8\u001b[0m \u001b[43m    \u001b[49m\u001b[43mvelocidad_viento\u001b[49m\u001b[43m:\u001b[49m\u001b[43m \u001b[49m\u001b[38;5;28;43mfloat\u001b[39;49m\n",
      "Cell \u001b[1;32mIn[37], line 7\u001b[0m, in \u001b[0;36mMedicion\u001b[1;34m()\u001b[0m\n\u001b[0;32m      6\u001b[0m \u001b[38;5;28;01mclass\u001b[39;00m \u001b[38;5;21;01mMedicion\u001b[39;00m(BaseModel):\n\u001b[1;32m----> 7\u001b[0m     fecha_hora: \u001b[43mdatetime\u001b[49m\n\u001b[0;32m      8\u001b[0m     velocidad_viento: \u001b[38;5;28mfloat\u001b[39m\n\u001b[0;32m      9\u001b[0m     direccion_viento: \u001b[38;5;28mint\u001b[39m\n",
      "\u001b[1;31mNameError\u001b[0m: name 'datetime' is not defined"
     ]
    }
   ],
   "source": [
    "from fastapi import FastAPI, Body\n",
    "from pydantic import BaseModel\n",
    "\n",
    "app = FastAPI()\n",
    "\n",
    "class Medicion(BaseModel):\n",
    "    fecha_hora: datetime\n",
    "    velocidad_viento: float\n",
    "    direccion_viento: int\n",
    "    temperatura: float\n",
    "    humedad: int\n",
    "    potencia_generada: int\n",
    "    generador_id: int\n",
    "\n",
    "@app.post(\"/mediciones\")\n",
    "async def crear_medicion(medicion: Medicion = Body(...)):\n",
    "    try:\n",
    "        # Validate data\n",
    "        medicion.validate()\n",
    "\n",
    "        # Process or store validated data\n",
    "        # ...\n",
    "\n",
    "        return {\"message\": \"Medición creada exitosamente\"}\n",
    "    except ValidationError as e:\n",
    "        # Handle validation errors gracefully\n",
    "        return {\"error\": str(e)}"
   ]
  },
  {
   "cell_type": "code",
   "execution_count": null,
   "metadata": {},
   "outputs": [],
   "source": [
    "import json\n",
    "from datetime import datetime\n",
    "import random\n",
    "\n",
    "# Función para generar registros dummy\n",
    "def generate_dummy_log():\n",
    "    timestamp = datetime.utcnow().isoformat()\n",
    "    log_level = random.choice(['INFO', 'ERROR', 'DEBUG'])\n",
    "    message = f\"Sample log message - {random.randint(1, 100)}\"\n",
    "    \n",
    "    log_entry = {\n",
    "        \"@timestamp\": timestamp,\n",
    "        \"log.level\": log_level,\n",
    "        \"message\": message\n",
    "    }\n",
    "    \n",
    "    return log_entry\n",
    "\n",
    "# Número de registros dummy a generar\n",
    "num_logs = 10\n",
    "\n",
    "# Ruta del archivo JSON de salida\n",
    "output_file_path = \"./logs/dummy_logs.json\"\n",
    "\n",
    "# Crear y guardar los registros en un archivo JSON, cada uno en una línea nueva\n",
    "with open(output_file_path, 'w') as output_file:\n",
    "    for _ in range(num_logs):\n",
    "        log_entry = generate_dummy_log()\n",
    "        json.dump(log_entry, output_file)\n",
    "        output_file.write('\\n')\n",
    "\n",
    "print(f\"Archivo JSON con {num_logs} registros dummy creado en {output_file_path}\\n\")\n",
    "\n"
   ]
  }
 ],
 "metadata": {
  "kernelspec": {
   "display_name": "Python 3",
   "language": "python",
   "name": "python3"
  },
  "language_info": {
   "codemirror_mode": {
    "name": "ipython",
    "version": 3
   },
   "file_extension": ".py",
   "mimetype": "text/x-python",
   "name": "python",
   "nbconvert_exporter": "python",
   "pygments_lexer": "ipython3",
   "version": "3.11.3"
  }
 },
 "nbformat": 4,
 "nbformat_minor": 2
}
