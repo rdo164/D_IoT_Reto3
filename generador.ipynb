{
 "cells": [
  {
   "cell_type": "code",
   "execution_count": 12,
   "metadata": {},
   "outputs": [],
   "source": [
    "class Generador:\n",
    "    def __init__(self, generador_id, fecha_hora=-1,\n",
    "                 velocidad_viento=-1, direccion_viento=-1, temperatura=-1,\n",
    "                 humedad=-1, potencia_generada = None):\n",
    "        self.fecha_hora = fecha_hora\n",
    "        self.velocidad_viento = velocidad_viento\n",
    "        self.direccion_viento = direccion_viento\n",
    "        self.temperatura = temperatura\n",
    "        self.humedad = humedad\n",
    "        self.generador_id = generador_id\n",
    "        self.potencia_generada = potencia_generada\n",
    "\n",
    "    def set_fecha_hora(self, fecha_hora):\n",
    "        self.fecha_hora = fecha_hora\n",
    "\n",
    "    def get_fecha_hora(self):\n",
    "        return self.fecha_hora\n",
    "\n",
    "    def get_velocidad_viento(self):\n",
    "        return self._velocidad_viento\n",
    "\n",
    "    def set_velocidad_viento(self, velocidad_viento):\n",
    "        self._velocidad_viento = velocidad_viento\n",
    "\n",
    "    def get_direccion_viento(self):\n",
    "        return self._direccion_viento\n",
    "\n",
    "    def set_direccion_viento(self, direccion_viento):\n",
    "        self._direccion_viento = direccion_viento\n",
    "\n",
    "    def get_temperatura(self):\n",
    "        return self._temperatura\n",
    "\n",
    "    def set_temperatura(self, temperatura):\n",
    "        self._temperatura = temperatura\n",
    "\n",
    "    def get_humedad(self):\n",
    "        return self._humedad\n",
    "\n",
    "    def set_humedad(self, humedad):\n",
    "        self._humedad = humedad\n",
    "\n",
    "    def get_potencia_generada(self):\n",
    "        return self.potencia_generada\n",
    "\n",
    "    def set_potencia_generada(self, potencia_generada):\n",
    "        self.potencia_generada = potencia_generada\n",
    "\n"
   ]
  },
  {
   "cell_type": "markdown",
   "metadata": {},
   "source": []
  },
  {
   "cell_type": "code",
   "execution_count": 15,
   "metadata": {},
   "outputs": [
    {
     "ename": "ModuleNotFoundError",
     "evalue": "No module named 'pandas'",
     "output_type": "error",
     "traceback": [
      "\u001b[1;31m---------------------------------------------------------------------------\u001b[0m",
      "\u001b[1;31mModuleNotFoundError\u001b[0m                       Traceback (most recent call last)",
      "Cell \u001b[1;32mIn[15], line 2\u001b[0m\n\u001b[0;32m      1\u001b[0m \u001b[38;5;28;01mimport\u001b[39;00m \u001b[38;5;21;01mnumpy\u001b[39;00m \u001b[38;5;28;01mas\u001b[39;00m \u001b[38;5;21;01mnp\u001b[39;00m\n\u001b[1;32m----> 2\u001b[0m \u001b[38;5;28;01mimport\u001b[39;00m \u001b[38;5;21;01mpandas\u001b[39;00m \u001b[38;5;28;01mas\u001b[39;00m \u001b[38;5;21;01mpd\u001b[39;00m\n\u001b[0;32m      3\u001b[0m \u001b[38;5;28;01mimport\u001b[39;00m \u001b[38;5;21;01mrandom\u001b[39;00m\n\u001b[0;32m      4\u001b[0m \u001b[38;5;28;01mfrom\u001b[39;00m \u001b[38;5;21;01mdatetime\u001b[39;00m \u001b[38;5;28;01mimport\u001b[39;00m datetime\n",
      "\u001b[1;31mModuleNotFoundError\u001b[0m: No module named 'pandas'"
     ]
    }
   ],
   "source": [
    "import numpy as np\n",
    "import pandas as pd\n",
    "import random\n",
    "from datetime import datetime"
   ]
  },
  {
   "cell_type": "code",
   "execution_count": 16,
   "metadata": {},
   "outputs": [
    {
     "ename": "NameError",
     "evalue": "name 'datetime' is not defined",
     "output_type": "error",
     "traceback": [
      "\u001b[1;31m---------------------------------------------------------------------------\u001b[0m",
      "\u001b[1;31mNameError\u001b[0m                                 Traceback (most recent call last)",
      "Cell \u001b[1;32mIn[16], line 15\u001b[0m\n\u001b[0;32m     12\u001b[0m generador \u001b[38;5;241m=\u001b[39m Generador(generador_id) \n\u001b[0;32m     14\u001b[0m \u001b[38;5;66;03m# timestamp\u001b[39;00m\n\u001b[1;32m---> 15\u001b[0m timestamp \u001b[38;5;241m=\u001b[39m \u001b[43mdatetime\u001b[49m\u001b[38;5;241m.\u001b[39mutcnow()\u001b[38;5;241m.\u001b[39misoformat()\n\u001b[0;32m     16\u001b[0m generador\u001b[38;5;241m.\u001b[39mset_fecha_hora(timestamp)\n\u001b[0;32m     18\u001b[0m \u001b[38;5;66;03m# velocidad viento\u001b[39;00m\n",
      "\u001b[1;31mNameError\u001b[0m: name 'datetime' is not defined"
     ]
    }
   ],
   "source": [
    "import random\n",
    "# creo la \n",
    "mediciones = []\n",
    "\n",
    "n_generadores = 10\n",
    "\n",
    "for i in range(n_generadores):\n",
    "    p_error = np.random.randint(1,100) \n",
    "\n",
    "    generador_id = i+1\n",
    "    # Creo un objeto tipo generador \n",
    "    generador = Generador(generador_id) \n",
    "    \n",
    "    # timestamp\n",
    "    timestamp = datetime.utcnow().isoformat()\n",
    "    generador.set_fecha_hora(timestamp)\n",
    "    \n",
    "    # velocidad viento\n",
    "    vv = np.random.normal(10, 2)\n",
    "    generador.set_velocidad_viento(vv)\n",
    "\n",
    "    # Dirección de viento\n",
    "    direccion_viento = np.random.randint(0, 360)\n",
    "    generador.set_direccion_viento(direccion_viento)\n",
    "\n",
    "    # temperatura\n",
    "    temperatura = np.random.normal(15, 2)\n",
    "\n",
    "    # probabilidad de error\n",
    "    if(p_error < 5):\n",
    "        temperatura = -23342\n",
    "\n",
    "    generador.set_temperatura(temperatura)\n",
    "    \n",
    "    # humedad\n",
    "    humedad = np.random.randint(40, 80)\n",
    "    generador.set_humedad(humedad)\n",
    "    \n",
    "    # potencia generada\n",
    "    potencia_generada = np.random.randint(0, 1000)\n",
    "    generador.set_potencia_generada(potencia_generada)\n",
    "\n",
    "    medicion = {\n",
    "    \"generador_id\": generador_id,\n",
    "\n",
    "    \"fecha_hora\": timestamp,\n",
    "    \n",
    "    \"velocidad_viento\": vv,\n",
    "    \n",
    "    \"direccion_viento\": direccion_viento,\n",
    "    \n",
    "    \"temperatura\": temperatura,\n",
    "    \n",
    "    \"humedad\": humedad,\n",
    "    \n",
    "    \"potencia_generada\": potencia_generada,\n",
    "    }\n",
    "\n",
    "    # añado la medición creada \n",
    "    mediciones.append(medicion) \n",
    "\n",
    "\n",
    "\n",
    "\n",
    "    r_carpeta = \"./archivo/\"\n",
    "    r_gen_id = (f\"{generador_id}.json\")\n",
    "    ruta = r_carpeta + r_gen_id\n",
    "\n",
    "    (f\"{generador_id}.json\")\n",
    "\n",
    "\n",
    "\n",
    "    print(medicion)\n",
    "\n",
    "\n",
    "            \n",
    "print(mediciones)\n"
   ]
  },
  {
   "cell_type": "code",
   "execution_count": 10,
   "metadata": {},
   "outputs": [
    {
     "name": "stderr",
     "output_type": "stream",
     "text": [
      "\"install\" no se reconoce como un comando interno o externo,\n",
      "programa o archivo por lotes ejecutable.\n"
     ]
    }
   ],
   "source": [
    "! install fastapi\n"
   ]
  },
  {
   "cell_type": "code",
   "execution_count": 9,
   "metadata": {},
   "outputs": [
    {
     "ename": "ModuleNotFoundError",
     "evalue": "No module named 'fastapi'",
     "output_type": "error",
     "traceback": [
      "\u001b[1;31m---------------------------------------------------------------------------\u001b[0m",
      "\u001b[1;31mModuleNotFoundError\u001b[0m                       Traceback (most recent call last)",
      "Cell \u001b[1;32mIn[9], line 1\u001b[0m\n\u001b[1;32m----> 1\u001b[0m \u001b[38;5;28;01mfrom\u001b[39;00m \u001b[38;5;21;01mfastapi\u001b[39;00m \u001b[38;5;28;01mimport\u001b[39;00m FastAPI, Body\n\u001b[0;32m      2\u001b[0m \u001b[38;5;28;01mfrom\u001b[39;00m \u001b[38;5;21;01mpydantic\u001b[39;00m \u001b[38;5;28;01mimport\u001b[39;00m BaseModel\n",
      "\u001b[1;31mModuleNotFoundError\u001b[0m: No module named 'fastapi'"
     ]
    }
   ],
   "source": [
    "from fastapi import FastAPI, Body\n",
    "from pydantic import BaseModel"
   ]
  },
  {
   "cell_type": "code",
   "execution_count": 8,
   "metadata": {},
   "outputs": [
    {
     "ename": "ModuleNotFoundError",
     "evalue": "No module named 'fastapi'",
     "output_type": "error",
     "traceback": [
      "\u001b[1;31m---------------------------------------------------------------------------\u001b[0m",
      "\u001b[1;31mModuleNotFoundError\u001b[0m                       Traceback (most recent call last)",
      "Cell \u001b[1;32mIn[8], line 1\u001b[0m\n\u001b[1;32m----> 1\u001b[0m \u001b[38;5;28;01mfrom\u001b[39;00m \u001b[38;5;21;01mfastapi\u001b[39;00m \u001b[38;5;28;01mimport\u001b[39;00m FastAPI, Body\n\u001b[0;32m      2\u001b[0m \u001b[38;5;28;01mfrom\u001b[39;00m \u001b[38;5;21;01mpydantic\u001b[39;00m \u001b[38;5;28;01mimport\u001b[39;00m BaseModel\n\u001b[0;32m      4\u001b[0m app \u001b[38;5;241m=\u001b[39m FastAPI()\n",
      "\u001b[1;31mModuleNotFoundError\u001b[0m: No module named 'fastapi'"
     ]
    }
   ],
   "source": [
    "from fastapi import FastAPI, Body\n",
    "from pydantic import BaseModel\n",
    "\n",
    "app = FastAPI()\n",
    "\n",
    "class Medicion(BaseModel):\n",
    "    fecha_hora: datetime\n",
    "    velocidad_viento: float\n",
    "    direccion_viento: int\n",
    "    temperatura: float\n",
    "    humedad: int\n",
    "    potencia_generada: int\n",
    "    generador_id: int\n",
    "\n",
    "@app.post(\"/mediciones\")\n",
    "async def crear_medicion(medicion: Medicion = Body(...)):\n",
    "    try:\n",
    "        # Validate data\n",
    "        medicion.validate()\n",
    "\n",
    "        # Process or store validated data\n",
    "        # ...\n",
    "\n",
    "        return {\"message\": \"Medición creada exitosamente\"}\n",
    "    \n",
    "    except ValidationError as e:\n",
    "        # Handle validation errors gracefully\n",
    "        return {\"error\": str(e)}"
   ]
  },
  {
   "cell_type": "code",
   "execution_count": null,
   "metadata": {},
   "outputs": [],
   "source": [
    "import json\n",
    "from datetime import datetime\n",
    "import random\n",
    "\n",
    "# Función para generar registros dummy\n",
    "def generate_dummy_log():\n",
    "    timestamp = datetime.utcnow().isoformat()\n",
    "    log_level = random.choice(['INFO', 'ERROR', 'DEBUG'])\n",
    "    message = f\"Sample log message - {random.randint(1, 100)}\"\n",
    "    \n",
    "    log_entry = {\n",
    "        \"@timestamp\": timestamp,\n",
    "        \"log.level\": log_level,\n",
    "        \"message\": message\n",
    "    }\n",
    "    \n",
    "    return log_entry\n",
    "\n",
    "# Número de registros dummy a generar\n",
    "num_logs = 10\n",
    "\n",
    "# Ruta del archivo JSON de salida\n",
    "output_file_path = \"./logs/dummy_logs.json\"\n",
    "\n",
    "# Crear y guardar los registros en un archivo JSON, cada uno en una línea nueva\n",
    "with open(output_file_path, 'w') as output_file:\n",
    "    for _ in range(num_logs):\n",
    "        log_entry = generate_dummy_log()\n",
    "        json.dump(log_entry, output_file)\n",
    "        output_file.write('\\n')\n",
    "\n",
    "print(f\"Archivo JSON con {num_logs} registros dummy creado en {output_file_path}\\n\")\n",
    "\n"
   ]
  }
 ],
 "metadata": {
  "kernelspec": {
   "display_name": "Python 3",
   "language": "python",
   "name": "python3"
  },
  "language_info": {
   "codemirror_mode": {
    "name": "ipython",
    "version": 3
   },
   "file_extension": ".py",
   "mimetype": "text/x-python",
   "name": "python",
   "nbconvert_exporter": "python",
   "pygments_lexer": "ipython3",
   "version": "3.9.6"
  }
 },
 "nbformat": 4,
 "nbformat_minor": 2
}
